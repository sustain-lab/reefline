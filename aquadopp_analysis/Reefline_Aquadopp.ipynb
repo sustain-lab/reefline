{
 "cells": [
  {
   "cell_type": "code",
   "execution_count": null,
   "id": "b127027f",
   "metadata": {},
   "outputs": [],
   "source": [
    "import pandas as pd\n",
    "import matplotlib.pyplot as plt\n",
    "import numpy as np\n",
    "from datetime import datetime\n",
    "import importlib\n",
    "from pathlib import Path"
   ]
  },
  {
   "cell_type": "code",
   "execution_count": null,
   "id": "98b39a99",
   "metadata": {},
   "outputs": [],
   "source": [
    "#find files on own computer\n",
    "parent_path = str(Path().parent.absolute().parent)"
   ]
  },
  {
   "cell_type": "code",
   "execution_count": null,
   "id": "942d57e8",
   "metadata": {},
   "outputs": [],
   "source": [
    "import AquadoppAnalysis as AA"
   ]
  },
  {
   "cell_type": "code",
   "execution_count": null,
   "id": "82a1b1c0",
   "metadata": {},
   "outputs": [],
   "source": [
    "importlib.reload(AA)"
   ]
  },
  {
   "cell_type": "code",
   "execution_count": null,
   "id": "360da70f",
   "metadata": {},
   "outputs": [],
   "source": [
    "uptank = AA.createDict(parent_path + \"/data/aquadopp/com4/BASL202\", 'uptank', 'BASL302')  #filename can be switched\n",
    "downtank = AA.createDict(parent_path + \"/data/aquadopp/com5/BASL302\",'downtank', 'BASL202')"
   ]
  },
  {
   "cell_type": "code",
   "execution_count": null,
   "id": "67e61b36",
   "metadata": {
    "scrolled": false
   },
   "outputs": [],
   "source": [
    "#these files have different bin sizes might need to adjust for the files with the same bin sizes\n",
    "    #this is affecting plotConditionsAquadoppReefline which should work with the same size bins \n",
    "#Milan I know we fixed this I just dont have those files on my computer\n",
    "#also velocity along tank is v1 for my experiemt so thats what is being plotted need to change for reefline experiemnts\n",
    "\n",
    "AA.meanProfileReefline('BASL202')"
   ]
  },
  {
   "cell_type": "code",
   "execution_count": null,
   "id": "bc97c398",
   "metadata": {},
   "outputs": [],
   "source": []
  }
 ],
 "metadata": {
  "kernelspec": {
   "display_name": "Python 3",
   "language": "python",
   "name": "python3"
  },
  "language_info": {
   "codemirror_mode": {
    "name": "ipython",
    "version": 3
   },
   "file_extension": ".py",
   "mimetype": "text/x-python",
   "name": "python",
   "nbconvert_exporter": "python",
   "pygments_lexer": "ipython3",
   "version": "3.7.10"
  }
 },
 "nbformat": 4,
 "nbformat_minor": 5
}
